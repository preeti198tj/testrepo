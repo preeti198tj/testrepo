{
 "cells": [
  {
   "cell_type": "markdown",
   "id": "c316a9ba-9424-4992-95db-5a4b124fc2ff",
   "metadata": {},
   "source": [
    "# Data Science Tools and Ecosystem"
   ]
  },
  {
   "cell_type": "markdown",
   "id": "c21f00c5-0fb5-44e9-83dc-4975996a6051",
   "metadata": {},
   "source": [
    "#### In this notebook, Data Science Tools and Ecosystem are summarized."
   ]
  },
  {
   "cell_type": "markdown",
   "id": "e6b6d881-4b34-4a1e-b0fd-e50e8f105d01",
   "metadata": {},
   "source": [
    "##### Some of the popular languages that Data Scientists use are:\n",
    "1. Python\n",
    "2. SQL\n",
    "3. R\n",
    "4. Java"
   ]
  },
  {
   "cell_type": "markdown",
   "id": "a3110b38-7197-4781-99c3-1011fc9b225f",
   "metadata": {},
   "source": [
    "##### Some of the commonly used libraries used by Data Scientists include:\n",
    "1. Pandas\n",
    "2. Numpy\n",
    "3. Matplotlib\n",
    "4. Seaborn\n",
    "5. SciPy\n",
    "6. TensorFlow\n",
    "7. Scikit\n",
    "8. Plotly"
   ]
  },
  {
   "cell_type": "markdown",
   "id": "e6455965-3c0d-4fc9-95c9-34e6c510858f",
   "metadata": {},
   "source": [
    "##### \n",
    "| Data Science Tools|\n",
    "|-------------------|\n",
    "|Jupyter Notebook|\n",
    "| Rstudio|\n",
    "|VS Code|\n"
   ]
  },
  {
   "cell_type": "markdown",
   "id": "c6f7482e-e401-4370-bc99-dde981bd8c4a",
   "metadata": {},
   "source": [
    "### Below are a few examples of evaluating arithmetic expressions in Python :\n",
    "1. **Addition (`+`)**: Adds two numbers.\n",
    "    ```python\n",
    "    result = 3 + 2  # result is 5\n",
    "    ```\n",
    "\n",
    "2. **Subtraction (`-`)**: Subtracts one number from another.\n",
    "    ```python\n",
    "    result = 5 - 2  # result is 3\n",
    "    ```\n",
    "\n",
    "3. **Multiplication (`*`)**: Multiplies two numbers.\n",
    "    ```python\n",
    "    result = 4 * 3  # result is 12\n",
    "    ```\n",
    "\n",
    "4. **Division (`/`)**: Divides one number by another.\n",
    "    ```python\n",
    "    result = 10 / 2  # result is 5.0\n",
    "    ```"
   ]
  },
  {
   "cell_type": "code",
   "execution_count": 11,
   "id": "9086d563-f5c2-4e5e-8a44-269f60f5136a",
   "metadata": {},
   "outputs": [
    {
     "data": {
      "text/plain": [
       "17"
      ]
     },
     "execution_count": 11,
     "metadata": {},
     "output_type": "execute_result"
    }
   ],
   "source": [
    "# This is a simple arithmetic expression to multiply then add integers\n",
    "result = (3 * 4) + 5\n",
    "result\n"
   ]
  },
  {
   "cell_type": "code",
   "execution_count": 12,
   "id": "efcc833e-b7ee-4d2c-96b3-da3904ee191f",
   "metadata": {},
   "outputs": [
    {
     "data": {
      "text/plain": [
       "3.3333333333333335"
      ]
     },
     "execution_count": 12,
     "metadata": {},
     "output_type": "execute_result"
    }
   ],
   "source": [
    "# This will convert 200 minutes to hours by dividing by 60\n",
    "hours = 200 / 60\n",
    "hours\n"
   ]
  },
  {
   "cell_type": "markdown",
   "id": "4311ec64-e1af-4943-889a-183ca8001dc8",
   "metadata": {},
   "source": [
    "**Objectives:**\n",
    "\n",
    "- List popular languages for Data Science\n",
    "- Identify commonly used libraries in Data Science\n",
    "- Introduce arithmetic expressions in Python\n",
    "- Perform basic arithmetic operations\n",
    "- Convert units (minutes to hours) using arithmetic expressions\n"
   ]
  },
  {
   "cell_type": "markdown",
   "id": "049a8a40-035e-4768-88d8-b3378e5f74e2",
   "metadata": {},
   "source": [
    "## Author\n",
    "Preeti Saxena"
   ]
  },
  {
   "cell_type": "code",
   "execution_count": null,
   "id": "2340ab25-27c5-41fa-a5ff-f26a101cb8d8",
   "metadata": {},
   "outputs": [],
   "source": []
  }
 ],
 "metadata": {
  "kernelspec": {
   "display_name": "Python 3 (ipykernel)",
   "language": "python",
   "name": "python3"
  },
  "language_info": {
   "codemirror_mode": {
    "name": "ipython",
    "version": 3
   },
   "file_extension": ".py",
   "mimetype": "text/x-python",
   "name": "python",
   "nbconvert_exporter": "python",
   "pygments_lexer": "ipython3",
   "version": "3.12.1"
  }
 },
 "nbformat": 4,
 "nbformat_minor": 5
}
